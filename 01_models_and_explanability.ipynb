{
 "cells": [
  {
   "cell_type": "code",
   "id": "initial_id",
   "metadata": {
    "collapsed": true,
    "ExecuteTime": {
     "end_time": "2025-08-07T00:45:03.709197Z",
     "start_time": "2025-08-07T00:45:03.307685Z"
    }
   },
   "source": [
    "import pandas as pd\n",
    "from IPython.display import display, Markdown"
   ],
   "outputs": [],
   "execution_count": 1
  },
  {
   "metadata": {
    "ExecuteTime": {
     "end_time": "2025-08-07T00:45:03.770716Z",
     "start_time": "2025-08-07T00:45:03.713201Z"
    }
   },
   "cell_type": "code",
   "source": "df = pd.read_csv('data/data_preprocessed.csv')",
   "id": "f5f865bd6dd402db",
   "outputs": [],
   "execution_count": 2
  },
  {
   "metadata": {
    "ExecuteTime": {
     "end_time": "2025-08-07T00:45:03.818292Z",
     "start_time": "2025-08-07T00:45:03.774721Z"
    }
   },
   "cell_type": "code",
   "source": "original_data = pd.read_csv('data/data_resampled.csv')",
   "id": "1c19771f71e995dd",
   "outputs": [],
   "execution_count": 3
  },
  {
   "metadata": {},
   "cell_type": "markdown",
   "source": [
    "# Entrenamiento de mejor modelo\n",
    "\n",
    "Como se encuentra en la exploración de datos, el mejor modelo es un CatBoostClassifier"
   ],
   "id": "e4f3a6fb81d59c4d"
  },
  {
   "metadata": {
    "ExecuteTime": {
     "end_time": "2025-08-07T00:45:11.451656Z",
     "start_time": "2025-08-07T00:45:03.823299Z"
    }
   },
   "cell_type": "code",
   "source": [
    "from catboost import CatBoostClassifier\n",
    "from sklearn.model_selection import train_test_split\n",
    "\n",
    "X = df.drop(columns=['FLAG'])\n",
    "y = df['FLAG']\n",
    "\n",
    "\n",
    "x_train, x_test, y_train, y_test = train_test_split(X, y, test_size=0.2, random_state=23, stratify=y)\n",
    "\n",
    "model = CatBoostClassifier(random_seed=23, verbose=False)\n",
    "model.fit(x_train, y_train)"
   ],
   "id": "67bdac09faa3234a",
   "outputs": [
    {
     "data": {
      "text/plain": [
       "<catboost.core.CatBoostClassifier at 0x16f43abd270>"
      ]
     },
     "execution_count": 4,
     "metadata": {},
     "output_type": "execute_result"
    }
   ],
   "execution_count": 4
  },
  {
   "metadata": {},
   "cell_type": "markdown",
   "source": "# Resultados del modelo",
   "id": "74176b80207f99d4"
  },
  {
   "metadata": {
    "ExecuteTime": {
     "end_time": "2025-08-07T00:45:11.576054Z",
     "start_time": "2025-08-07T00:45:11.550057Z"
    }
   },
   "cell_type": "code",
   "source": [
    "from sklearn.metrics import accuracy_score, f1_score, precision_score, recall_score\n",
    "\n",
    "y_pred = model.predict(x_test)\n",
    "print(f'Accuracy: {accuracy_score(y_test, y_pred)}')\n",
    "print(f'F1 Score: {f1_score(y_test, y_pred)}')\n",
    "print(f'Precision: {precision_score(y_test, y_pred)}')\n",
    "print(f'Recall: {recall_score(y_test, y_pred)}')\n"
   ],
   "id": "32aff71b41c556d8",
   "outputs": [
    {
     "name": "stdout",
     "output_type": "stream",
     "text": [
      "Accuracy: 0.9966799468791501\n",
      "F1 Score: 0.9966711051930759\n",
      "Precision: 0.9993324432576769\n",
      "Recall: 0.9940239043824701\n"
     ]
    }
   ],
   "execution_count": 5
  },
  {
   "metadata": {},
   "cell_type": "markdown",
   "source": "# Explicación del modelo",
   "id": "6ebfe9fb9f9f2f6a"
  },
  {
   "metadata": {
    "ExecuteTime": {
     "end_time": "2025-08-07T00:45:11.606058Z",
     "start_time": "2025-08-07T00:45:11.582053Z"
    }
   },
   "cell_type": "code",
   "source": [
    "data = model.get_feature_importance(prettified=True)\n",
    "display(data)"
   ],
   "id": "a87e8c3264ea2ac3",
   "outputs": [
    {
     "data": {
      "text/plain": [
       "                                           Feature Id  Importances\n",
       "0                          ERC20 most sent token type    26.153274\n",
       "1                           ERC20_most_rec_token_type    15.385787\n",
       "2                                 ERC20 uniq rec addr    12.947133\n",
       "3                                    Total ERC20 tnxs    10.699098\n",
       "4                                   ERC20 min val rec     4.559728\n",
       "5                                ERC20 uniq sent addr     4.448808\n",
       "6             Time Diff between first and last (Mins)     4.311425\n",
       "7                      Unique Received From Addresses     3.434338\n",
       "8                          ERC20 uniq sent token name     3.256748\n",
       "9                                   ERC20 avg val rec     2.348959\n",
       "10                                       min val sent     2.107154\n",
       "11                                            Address     1.907879\n",
       "12                                   avg val received     1.645346\n",
       "13  total transactions (including tnx to create co...     1.627101\n",
       "14                               total ether received     1.047433\n",
       "15                       Avg min between received tnx     0.905954\n",
       "16                                           Sent tnx     0.609231\n",
       "17                                total ether balance     0.513497\n",
       "18                                       Received Tnx     0.384779\n",
       "19                                 min value received     0.384494\n",
       "20                                max value received      0.375457\n",
       "21                                       max val sent     0.308982\n",
       "22                                   total Ether sent     0.236158\n",
       "23                           Avg min between sent tnx     0.220882\n",
       "24                                       avg val sent     0.103510\n",
       "25                           Unique Sent To Addresses     0.069522\n",
       "26                        Number of Created Contracts     0.007324\n",
       "27                    ERC20 total Ether sent contract     0.000000"
      ],
      "text/html": [
       "<div>\n",
       "<style scoped>\n",
       "    .dataframe tbody tr th:only-of-type {\n",
       "        vertical-align: middle;\n",
       "    }\n",
       "\n",
       "    .dataframe tbody tr th {\n",
       "        vertical-align: top;\n",
       "    }\n",
       "\n",
       "    .dataframe thead th {\n",
       "        text-align: right;\n",
       "    }\n",
       "</style>\n",
       "<table border=\"1\" class=\"dataframe\">\n",
       "  <thead>\n",
       "    <tr style=\"text-align: right;\">\n",
       "      <th></th>\n",
       "      <th>Feature Id</th>\n",
       "      <th>Importances</th>\n",
       "    </tr>\n",
       "  </thead>\n",
       "  <tbody>\n",
       "    <tr>\n",
       "      <th>0</th>\n",
       "      <td>ERC20 most sent token type</td>\n",
       "      <td>26.153274</td>\n",
       "    </tr>\n",
       "    <tr>\n",
       "      <th>1</th>\n",
       "      <td>ERC20_most_rec_token_type</td>\n",
       "      <td>15.385787</td>\n",
       "    </tr>\n",
       "    <tr>\n",
       "      <th>2</th>\n",
       "      <td>ERC20 uniq rec addr</td>\n",
       "      <td>12.947133</td>\n",
       "    </tr>\n",
       "    <tr>\n",
       "      <th>3</th>\n",
       "      <td>Total ERC20 tnxs</td>\n",
       "      <td>10.699098</td>\n",
       "    </tr>\n",
       "    <tr>\n",
       "      <th>4</th>\n",
       "      <td>ERC20 min val rec</td>\n",
       "      <td>4.559728</td>\n",
       "    </tr>\n",
       "    <tr>\n",
       "      <th>5</th>\n",
       "      <td>ERC20 uniq sent addr</td>\n",
       "      <td>4.448808</td>\n",
       "    </tr>\n",
       "    <tr>\n",
       "      <th>6</th>\n",
       "      <td>Time Diff between first and last (Mins)</td>\n",
       "      <td>4.311425</td>\n",
       "    </tr>\n",
       "    <tr>\n",
       "      <th>7</th>\n",
       "      <td>Unique Received From Addresses</td>\n",
       "      <td>3.434338</td>\n",
       "    </tr>\n",
       "    <tr>\n",
       "      <th>8</th>\n",
       "      <td>ERC20 uniq sent token name</td>\n",
       "      <td>3.256748</td>\n",
       "    </tr>\n",
       "    <tr>\n",
       "      <th>9</th>\n",
       "      <td>ERC20 avg val rec</td>\n",
       "      <td>2.348959</td>\n",
       "    </tr>\n",
       "    <tr>\n",
       "      <th>10</th>\n",
       "      <td>min val sent</td>\n",
       "      <td>2.107154</td>\n",
       "    </tr>\n",
       "    <tr>\n",
       "      <th>11</th>\n",
       "      <td>Address</td>\n",
       "      <td>1.907879</td>\n",
       "    </tr>\n",
       "    <tr>\n",
       "      <th>12</th>\n",
       "      <td>avg val received</td>\n",
       "      <td>1.645346</td>\n",
       "    </tr>\n",
       "    <tr>\n",
       "      <th>13</th>\n",
       "      <td>total transactions (including tnx to create co...</td>\n",
       "      <td>1.627101</td>\n",
       "    </tr>\n",
       "    <tr>\n",
       "      <th>14</th>\n",
       "      <td>total ether received</td>\n",
       "      <td>1.047433</td>\n",
       "    </tr>\n",
       "    <tr>\n",
       "      <th>15</th>\n",
       "      <td>Avg min between received tnx</td>\n",
       "      <td>0.905954</td>\n",
       "    </tr>\n",
       "    <tr>\n",
       "      <th>16</th>\n",
       "      <td>Sent tnx</td>\n",
       "      <td>0.609231</td>\n",
       "    </tr>\n",
       "    <tr>\n",
       "      <th>17</th>\n",
       "      <td>total ether balance</td>\n",
       "      <td>0.513497</td>\n",
       "    </tr>\n",
       "    <tr>\n",
       "      <th>18</th>\n",
       "      <td>Received Tnx</td>\n",
       "      <td>0.384779</td>\n",
       "    </tr>\n",
       "    <tr>\n",
       "      <th>19</th>\n",
       "      <td>min value received</td>\n",
       "      <td>0.384494</td>\n",
       "    </tr>\n",
       "    <tr>\n",
       "      <th>20</th>\n",
       "      <td>max value received</td>\n",
       "      <td>0.375457</td>\n",
       "    </tr>\n",
       "    <tr>\n",
       "      <th>21</th>\n",
       "      <td>max val sent</td>\n",
       "      <td>0.308982</td>\n",
       "    </tr>\n",
       "    <tr>\n",
       "      <th>22</th>\n",
       "      <td>total Ether sent</td>\n",
       "      <td>0.236158</td>\n",
       "    </tr>\n",
       "    <tr>\n",
       "      <th>23</th>\n",
       "      <td>Avg min between sent tnx</td>\n",
       "      <td>0.220882</td>\n",
       "    </tr>\n",
       "    <tr>\n",
       "      <th>24</th>\n",
       "      <td>avg val sent</td>\n",
       "      <td>0.103510</td>\n",
       "    </tr>\n",
       "    <tr>\n",
       "      <th>25</th>\n",
       "      <td>Unique Sent To Addresses</td>\n",
       "      <td>0.069522</td>\n",
       "    </tr>\n",
       "    <tr>\n",
       "      <th>26</th>\n",
       "      <td>Number of Created Contracts</td>\n",
       "      <td>0.007324</td>\n",
       "    </tr>\n",
       "    <tr>\n",
       "      <th>27</th>\n",
       "      <td>ERC20 total Ether sent contract</td>\n",
       "      <td>0.000000</td>\n",
       "    </tr>\n",
       "  </tbody>\n",
       "</table>\n",
       "</div>"
      ]
     },
     "metadata": {},
     "output_type": "display_data"
    }
   ],
   "execution_count": 6
  },
  {
   "metadata": {
    "ExecuteTime": {
     "end_time": "2025-08-07T00:45:12.298668Z",
     "start_time": "2025-08-07T00:45:11.670948Z"
    }
   },
   "cell_type": "code",
   "source": [
    "import matplotlib.pyplot as plt\n",
    "\n",
    "plt.figure(figsize=(10, 6))\n",
    "plt.barh(data['Feature Id'], data['Importances'])\n",
    "plt.xlabel('Importance (%)')\n",
    "plt.title('Feature Importance from CatBoost')\n",
    "plt.grid()\n",
    "plt.show()"
   ],
   "id": "e43c7f6eb171bed8",
   "outputs": [
    {
     "data": {
      "text/plain": [
       "<Figure size 1000x600 with 1 Axes>"
      ],
      "image/png": "[encoded data removed]"
     },
     "metadata": {},
     "output_type": "display_data"
    }
   ],
   "execution_count": 7
  },
  {
   "metadata": {
    "ExecuteTime": {
     "end_time": "2025-08-07T00:45:12.330245Z",
     "start_time": "2025-08-07T00:45:12.314243Z"
    }
   },
   "cell_type": "code",
   "source": [
    "most_important_features = data.sort_values(by='Importances', ascending=False).head(10)\n",
    "print(\"sum of most important features:\", most_important_features['Importances'].sum())\n",
    "most_important_features_names = most_important_features['Feature Id'].tolist()"
   ],
   "id": "5b69aa593978c101",
   "outputs": [
    {
     "name": "stdout",
     "output_type": "stream",
     "text": [
      "sum of most important features: 87.5452983514245\n"
     ]
    }
   ],
   "execution_count": 8
  },
  {
   "metadata": {},
   "cell_type": "markdown",
   "source": [
    "Se puede ver que las variables más importantes son:\n",
    "- `ECR20 most sent token type`: el tipo de token más enviado en la transacción. O la moneda usada en la transacción.\n",
    "- `ECR20 most received token type`: el tipo de token más recibido en la transacción. O la moneda recibida en la transacción.\n",
    "- `ECR20 uniq rec addr`: la cantidad de direcciones únicas que recibieron tokens en la transacción.\n",
    "- `Total ERC20 tnxs`: la cantidad de transacciones."
   ],
   "id": "f51f497ef3b5c380"
  },
  {
   "metadata": {},
   "cell_type": "markdown",
   "source": "De esta forma, si conocemos los rangos de las variables, se puede intentar interpretar usando llms.",
   "id": "a4ecbfec16167f73"
  },
  {
   "metadata": {
    "ExecuteTime": {
     "end_time": "2025-08-07T00:45:12.392240Z",
     "start_time": "2025-08-07T00:45:12.342241Z"
    }
   },
   "cell_type": "code",
   "source": [
    "description = df.describe().T\n",
    "display(description.head(10))"
   ],
   "id": "1315356f31d213bd",
   "outputs": [
    {
     "data": {
      "text/plain": [
       "                                           count       mean         std  \\\n",
       "Address                                  15056.0  -0.005125    0.568901   \n",
       "Avg min between sent tnx                 15056.0   9.383353   41.648932   \n",
       "Avg min between received tnx             15056.0   1.978908    6.599914   \n",
       "Time Diff between first and last (Mins)  15056.0   0.716690    1.386100   \n",
       "Sent tnx                                 15056.0  12.448592  101.538718   \n",
       "Received Tnx                             15056.0   6.473190   45.254247   \n",
       "Number of Created Contracts              15056.0   2.455300  114.366238   \n",
       "Unique Received From Addresses           15056.0   3.501184   40.638366   \n",
       "Unique Sent To Addresses                 15056.0   5.640852   71.224679   \n",
       "min value received                       15056.0  68.925530  726.377655   \n",
       "\n",
       "                                              min       25%       50%  \\\n",
       "Address                                 -1.017351 -0.495321  0.002924   \n",
       "Avg min between sent tnx                -0.011945 -0.011945 -0.000172   \n",
       "Avg min between received tnx            -0.070778 -0.070778 -0.001884   \n",
       "Time Diff between first and last (Mins) -0.076755 -0.076295  0.000406   \n",
       "Sent tnx                                -0.333333 -0.333333  0.000000   \n",
       "Received Tnx                            -0.235294 -0.176471  0.000000   \n",
       "Number of Created Contracts              0.000000  0.000000  0.000000   \n",
       "Unique Received From Addresses          -0.500000 -0.333333 -0.166667   \n",
       "Unique Sent To Addresses                -0.333333 -0.333333  0.000000   \n",
       "min value received                      -0.087136 -0.086963 -0.000693   \n",
       "\n",
       "                                              75%           max  \n",
       "Address                                  0.500195      0.896091  \n",
       "Avg min between sent tnx                 0.964592    924.435630  \n",
       "Avg min between received tnx             0.933426    164.547048  \n",
       "Time Diff between first and last (Mins)  0.923688      9.645441  \n",
       "Sent tnx                                 0.500000   1666.333333  \n",
       "Received Tnx                             0.823529    588.000000  \n",
       "Number of Created Contracts              0.000000   9995.000000  \n",
       "Unique Received From Addresses           0.666667   1666.000000  \n",
       "Unique Sent To Addresses                 0.666667   3095.333333  \n",
       "min value received                       0.884051  17254.108437  "
      ],
      "text/html": [
       "<div>\n",
       "<style scoped>\n",
       "    .dataframe tbody tr th:only-of-type {\n",
       "        vertical-align: middle;\n",
       "    }\n",
       "\n",
       "    .dataframe tbody tr th {\n",
       "        vertical-align: top;\n",
       "    }\n",
       "\n",
       "    .dataframe thead th {\n",
       "        text-align: right;\n",
       "    }\n",
       "</style>\n",
       "<table border=\"1\" class=\"dataframe\">\n",
       "  <thead>\n",
       "    <tr style=\"text-align: right;\">\n",
       "      <th></th>\n",
       "      <th>count</th>\n",
       "      <th>mean</th>\n",
       "      <th>std</th>\n",
       "      <th>min</th>\n",
       "      <th>25%</th>\n",
       "      <th>50%</th>\n",
       "      <th>75%</th>\n",
       "      <th>max</th>\n",
       "    </tr>\n",
       "  </thead>\n",
       "  <tbody>\n",
       "    <tr>\n",
       "      <th>Address</th>\n",
       "      <td>15056.0</td>\n",
       "      <td>-0.005125</td>\n",
       "      <td>0.568901</td>\n",
       "      <td>-1.017351</td>\n",
       "      <td>-0.495321</td>\n",
       "      <td>0.002924</td>\n",
       "      <td>0.500195</td>\n",
       "      <td>0.896091</td>\n",
       "    </tr>\n",
       "    <tr>\n",
       "      <th>Avg min between sent tnx</th>\n",
       "      <td>15056.0</td>\n",
       "      <td>9.383353</td>\n",
       "      <td>41.648932</td>\n",
       "      <td>-0.011945</td>\n",
       "      <td>-0.011945</td>\n",
       "      <td>-0.000172</td>\n",
       "      <td>0.964592</td>\n",
       "      <td>924.435630</td>\n",
       "    </tr>\n",
       "    <tr>\n",
       "      <th>Avg min between received tnx</th>\n",
       "      <td>15056.0</td>\n",
       "      <td>1.978908</td>\n",
       "      <td>6.599914</td>\n",
       "      <td>-0.070778</td>\n",
       "      <td>-0.070778</td>\n",
       "      <td>-0.001884</td>\n",
       "      <td>0.933426</td>\n",
       "      <td>164.547048</td>\n",
       "    </tr>\n",
       "    <tr>\n",
       "      <th>Time Diff between first and last (Mins)</th>\n",
       "      <td>15056.0</td>\n",
       "      <td>0.716690</td>\n",
       "      <td>1.386100</td>\n",
       "      <td>-0.076755</td>\n",
       "      <td>-0.076295</td>\n",
       "      <td>0.000406</td>\n",
       "      <td>0.923688</td>\n",
       "      <td>9.645441</td>\n",
       "    </tr>\n",
       "    <tr>\n",
       "      <th>Sent tnx</th>\n",
       "      <td>15056.0</td>\n",
       "      <td>12.448592</td>\n",
       "      <td>101.538718</td>\n",
       "      <td>-0.333333</td>\n",
       "      <td>-0.333333</td>\n",
       "      <td>0.000000</td>\n",
       "      <td>0.500000</td>\n",
       "      <td>1666.333333</td>\n",
       "    </tr>\n",
       "    <tr>\n",
       "      <th>Received Tnx</th>\n",
       "      <td>15056.0</td>\n",
       "      <td>6.473190</td>\n",
       "      <td>45.254247</td>\n",
       "      <td>-0.235294</td>\n",
       "      <td>-0.176471</td>\n",
       "      <td>0.000000</td>\n",
       "      <td>0.823529</td>\n",
       "      <td>588.000000</td>\n",
       "    </tr>\n",
       "    <tr>\n",
       "      <th>Number of Created Contracts</th>\n",
       "      <td>15056.0</td>\n",
       "      <td>2.455300</td>\n",
       "      <td>114.366238</td>\n",
       "      <td>0.000000</td>\n",
       "      <td>0.000000</td>\n",
       "      <td>0.000000</td>\n",
       "      <td>0.000000</td>\n",
       "      <td>9995.000000</td>\n",
       "    </tr>\n",
       "    <tr>\n",
       "      <th>Unique Received From Addresses</th>\n",
       "      <td>15056.0</td>\n",
       "      <td>3.501184</td>\n",
       "      <td>40.638366</td>\n",
       "      <td>-0.500000</td>\n",
       "      <td>-0.333333</td>\n",
       "      <td>-0.166667</td>\n",
       "      <td>0.666667</td>\n",
       "      <td>1666.000000</td>\n",
       "    </tr>\n",
       "    <tr>\n",
       "      <th>Unique Sent To Addresses</th>\n",
       "      <td>15056.0</td>\n",
       "      <td>5.640852</td>\n",
       "      <td>71.224679</td>\n",
       "      <td>-0.333333</td>\n",
       "      <td>-0.333333</td>\n",
       "      <td>0.000000</td>\n",
       "      <td>0.666667</td>\n",
       "      <td>3095.333333</td>\n",
       "    </tr>\n",
       "    <tr>\n",
       "      <th>min value received</th>\n",
       "      <td>15056.0</td>\n",
       "      <td>68.925530</td>\n",
       "      <td>726.377655</td>\n",
       "      <td>-0.087136</td>\n",
       "      <td>-0.086963</td>\n",
       "      <td>-0.000693</td>\n",
       "      <td>0.884051</td>\n",
       "      <td>17254.108437</td>\n",
       "    </tr>\n",
       "  </tbody>\n",
       "</table>\n",
       "</div>"
      ]
     },
     "metadata": {},
     "output_type": "display_data"
    }
   ],
   "execution_count": 9
  },
  {
   "metadata": {
    "ExecuteTime": {
     "end_time": "2025-08-07T01:02:37.634837Z",
     "start_time": "2025-08-07T01:02:37.627818Z"
    }
   },
   "cell_type": "code",
   "source": [
    "most_important_description = description.loc[most_important_features_names]\n",
    "# most_important_description = description"
   ],
   "id": "b3471356262dff8a",
   "outputs": [],
   "execution_count": 25
  },
  {
   "metadata": {},
   "cell_type": "markdown",
   "source": "Se convierten a un json para poder usarlo en el llm",
   "id": "952112bd474af172"
  },
  {
   "metadata": {
    "ExecuteTime": {
     "end_time": "2025-08-07T00:45:12.498839Z",
     "start_time": "2025-08-07T00:45:12.488834Z"
    }
   },
   "cell_type": "code",
   "source": [
    "most_important_description_json = most_important_description.to_json(orient='index')\n",
    "most_important_features_json = most_important_features.to_json(orient='index')"
   ],
   "id": "8471946807b7db85",
   "outputs": [],
   "execution_count": 11
  },
  {
   "metadata": {
    "ExecuteTime": {
     "end_time": "2025-08-07T00:53:55.622576Z",
     "start_time": "2025-08-07T00:53:55.605553Z"
    }
   },
   "cell_type": "code",
   "source": [
    "system_prompt = \"\"\"\n",
    "# Descripción del problema:\n",
    "\n",
    "Eres un experto en análisis de datos y modelos de machine learning.\n",
    "Tu tarea es interpretar los resultados de un modelo de machine learning y explicar qué significa cada variable en el contexto del problema.\n",
    "Te daré una descripción de las variables más importantes del modelo y su rango.\n",
    "Usa esta información para explicar qué significa cada variable y cómo se relaciona con el problema que estamos tratando de resolver.\n",
    "Ten en cuenta que las variables son numéricas y representan diferentes aspectos de las transacciones de criptomonedas en especial Ethereum.\n",
    "La variable objetivo es `FLAG`, que indica si una transacción es fraude o no. Dicha variable es evaluada por el modelo y se usa para predecir si una transacción es fraudulenta o no.\n",
    "Las variables están normalizadas mediante un robust scaler.\n",
    "Debes responder en español\n",
    "\n",
    "Aquí tienes la descripción de las variables más importantes del modelo ten en cuenta que fueron filtradas por su importancia en el modelo y que son las más relevantes para la predicción de fraude:\n",
    "{most_important_description_json}\n",
    "Y aquí tienes la importancia de las variables en porcentaje:\n",
    "{most_important_features_json}\n",
    "\n",
    "# Explicación de las variables:\n",
    "\n",
    "Index: the index number of a row\n",
    "Address: the address of the ethereum account\n",
    "FLAG: whether the transaction is fraud or not\n",
    "Avg min between sent tnx: Average time between sent transactions for account in minutes\n",
    "Avg_min_between_received_tnx: Average time between received transactions for account in minutes\n",
    "Time_Diff_between_first_and_last(Mins): Time difference between the first and last transaction\n",
    "Sent_tnx: Total number of sent normal transactions\n",
    "Received_tnx: Total number of received normal transactions\n",
    "Number_of_Created_Contracts: Total Number of created contract transactions\n",
    "Unique_Received_From_Addresses: Total Unique addresses from which account received transactions\n",
    "Unique_Sent_To_Addresses20: Total Unique addresses from which account sent transactions\n",
    "Min_Value_Received: Minimum value in Ether ever received\n",
    "Max_Value_Received: Maximum value in Ether ever received\n",
    "Avg_Value_Received5Average value in Ether ever received\n",
    "Min_Val_Sent: Minimum value of Ether ever sent\n",
    "Max_Val_Sent: Maximum value of Ether ever sent\n",
    "Avg_Val_Sent: Average value of Ether ever sent\n",
    "Min_Value_Sent_To_Contract: Minimum value of Ether sent to a contract\n",
    "Max_Value_Sent_To_Contract: Maximum value of Ether sent to a contract\n",
    "Avg_Value_Sent_To_Contract: Average value of Ether sent to contracts\n",
    "Total_Transactions(Including_Tnx_to_Create_Contract): Total number of transactions\n",
    "Total_Ether_Sent:Total Ether sent for account address\n",
    "Total_Ether_Received: Total Ether received for account address\n",
    "Total_Ether_Sent_Contracts: Total Ether sent to Contract addresses\n",
    "Total_Ether_Balance: Total Ether Balance following enacted transactions\n",
    "Total_ERC20_Tnxs: Total number of ERC20 token transfer transactions\n",
    "ERC20_Total_Ether_Received: Total ERC20 token received transactions in Ether\n",
    "ERC20_Total_Ether_Sent: Total ERC20token sent transactions in Ether\n",
    "ERC20_Total_Ether_Sent_Contract: Total ERC20 token transfer to other contracts in Ether\n",
    "ERC20_Uniq_Sent_Addr: Number of ERC20 token transactions sent to Unique account addresses\n",
    "ERC20_Uniq_Rec_Addr: Number of ERC20 token transactions received from Unique addresses\n",
    "ERC20_Uniq_Rec_Contract_Addr: Number of ERC20token transactions received from Unique contract addresses\n",
    "ERC20_Avg_Time_Between_Sent_Tnx: Average time between ERC20 token sent transactions in minutes\n",
    "ERC20_Avg_Time_Between_Rec_Tnx: Average time between ERC20 token received transactions in minutes\n",
    "ERC20_Avg_Time_Between_Contract_Tnx: Average time ERC20 token between sent token transactions\n",
    "ERC20_Min_Val_Rec: Minimum value in Ether received from ERC20 token transactions for account\n",
    "ERC20_Max_Val_Rec: Maximum value in Ether received from ERC20 token transactions for account\n",
    "ERC20_Avg_Val_Rec: Average value in Ether received from ERC20 token transactions for account\n",
    "ERC20_Min_Val_Sent: Minimum value in Ether sent from ERC20 token transactions for account\n",
    "ERC20_Max_Val_Sent: Maximum value in Ether sent from ERC20 token transactions for account\n",
    "ERC20_Avg_Val_Sent: Average value in Ether sent from ERC20 token transactions for account\n",
    "ERC20_Uniq_Sent_Token_Name: Number of Unique ERC20 tokens transferred\n",
    "ERC20_Uniq_Rec_Token_Name: Number of Unique ERC20 tokens received\n",
    "ERC20_Most_Sent_Token_Type: Most sent token for account via ERC20 transaction\n",
    "ERC20_Most_Rec_Token_Type: Most received token for account via ERC20 transactions\n",
    "\n",
    "# Ejemplo de uso:\n",
    "\n",
    "El usuario te dará las variables transformadas y originales de la forma:\n",
    "\n",
    "{{\n",
    "  \"variables_transformadas\": {{...}},\n",
    "    \"variables_originales\": {{...}}\n",
    "}}\n",
    "\n",
    "# Restricciones:\n",
    "\n",
    "Debes responder en markdown y usar secciones para explicarte mejor.\n",
    "Debes ser consisto y claro en tus explicaciones.\n",
    "Al finalizar debes aportar un resumen de la información.\n",
    "Debes responder en base a la información brindada por el usuario.\n",
    "\n",
    "\n",
    "\n",
    "\"\"\""
   ],
   "id": "6e62c428c5d5cd45",
   "outputs": [],
   "execution_count": 18
  },
  {
   "metadata": {
    "ExecuteTime": {
     "end_time": "2025-08-07T00:59:43.524139Z",
     "start_time": "2025-08-07T00:59:43.506790Z"
    }
   },
   "cell_type": "code",
   "source": [
    "true_data = y_pred == 1\n",
    "false_data = y_pred == 0\n",
    "\n",
    "true_data_df = x_test[true_data]\n",
    "false_data_df = x_test[false_data]\n",
    "\n",
    "example_true = true_data_df.sample(50)\n",
    "example_false = false_data_df.sample(50)\n",
    "\n",
    "example_true_json = example_true.to_dict(orient='index')\n",
    "example_false_json = example_false.to_dict(orient='index')\n",
    "\n",
    "original_true = original_data.loc[example_true.index]\n",
    "original_false = original_data.loc[example_false.index]\n",
    "\n",
    "original_true_json = original_true.to_dict(orient='index')\n",
    "original_false_json = original_false.to_dict(orient='index')\n",
    "\n",
    "example_true_json = [[index, data] for index, data in zip(example_true_json.values(), original_true_json.values())]\n",
    "example_false_json = [[index, data] for index, data in zip(example_false_json.values(), original_false_json.values())]\n",
    "\n",
    "for data in example_true_json:\n",
    "    data[0]['FLAG'] = 1\n",
    "    assert data[1]['FLAG'] == 1\n",
    "\n",
    "for data in example_false_json:\n",
    "    data[0]['FLAG'] = 0\n",
    "    assert data[1]['FLAG'] == 0\n",
    "\n",
    "prompts_example = [str({\"variables_transformadas\": data[0], \"variables_originales\": data[1]}) for data in example_true_json + example_false_json]"
   ],
   "id": "5707437df7d42778",
   "outputs": [],
   "execution_count": 21
  },
  {
   "metadata": {
    "ExecuteTime": {
     "end_time": "2025-08-07T01:01:18.986317Z",
     "start_time": "2025-08-07T01:01:18.974773Z"
    }
   },
   "cell_type": "code",
   "source": [
    "prompts_df = pd.DataFrame(prompts_example, columns=['prompt'])\n",
    "prompts_df.to_csv('data/prompts_example.csv', index=False)\n",
    "\n",
    "system_prompt_to_save = system_prompt.format(\n",
    "    most_important_description_json=most_important_description_json,\n",
    "    most_important_features_json=most_important_features_json\n",
    ")\n",
    "with open('data/system_prompt.txt', 'w', encoding=\"utf-8\") as f:\n",
    "    f.write(system_prompt_to_save)"
   ],
   "id": "c191bfc487cd2c85",
   "outputs": [],
   "execution_count": 24
  },
  {
   "metadata": {
    "ExecuteTime": {
     "end_time": "2025-08-07T00:55:03.491949Z",
     "start_time": "2025-08-07T00:53:57.888546Z"
    }
   },
   "cell_type": "code",
   "source": [
    "from langchain_ollama import ChatOllama\n",
    "\n",
    "model = ChatOllama(\n",
    "    model=\"qwen3:14b\",\n",
    "    temperature=0.0\n",
    ")\n",
    "\n",
    "messages = [\n",
    "    {\"role\": \"system\", \"content\": system_prompt.format(\n",
    "        most_important_description_json=most_important_description_json,\n",
    "        most_important_features_json=most_important_features_json\n",
    "    )},\n",
    "    {\"role\": \"user\", \"content\": prompts_example[0]}\n",
    "]\n",
    "\n",
    "test_response = model.invoke(messages)\n"
   ],
   "id": "c7fe3938730c9644",
   "outputs": [],
   "execution_count": 19
  },
  {
   "metadata": {
    "ExecuteTime": {
     "end_time": "2025-08-07T00:55:44.597622Z",
     "start_time": "2025-08-07T00:55:44.585621Z"
    }
   },
   "cell_type": "code",
   "source": [
    "def get_response_thinking(message)-> str:\n",
    "\n",
    "    content = message.content\n",
    "    content = content.split(\"</think>\")[1]\n",
    "    return content\n",
    "\n",
    "test_response_thinking = get_response_thinking(test_response)\n",
    "display(Markdown(test_response_thinking))"
   ],
   "id": "6d43eee2ddc63755",
   "outputs": [
    {
     "data": {
      "text/plain": [
       "<IPython.core.display.Markdown object>"
      ],
      "text/markdown": "\n\n# Análisis de Variables Transformadas y Originales\n\n## Variables Transformadas con Mayor Relevancia\n\n### 1. **ERC20_most_rec_token_type**  \n- **Valor transformado:** -0.1268  \n- **Valor original:** \"Blockwell say NOTSAFU\"  \n- **Interpretación:**  \n  - El valor transformado está por debajo de la mediana (0), lo que sugiere que este token no es común en transacciones legítimas.  \n  - El nombre del token (\"Blockwell say NOTSAFU\") parece ser un token específico o no reconocido, lo que podría indicar una actividad sospechosa.  \n  - **Relación con FLAG:** Este token podría estar asociado a transacciones fraudulentas si no se encuentra en registros de tokens legítimos.\n\n---\n\n### 2. **ERC20_most_sent_token_type**  \n- **Valor transformado:** -0.0101  \n- **Valor original:** \" \" (vacio)  \n- **Interpretación:**  \n  - El valor transformado está muy cercano a la mediana (0), pero el valor original es un campo vacío.  \n  - Esto podría indicar una falta de información o un token no registrado, lo que podría ser un indicador de transacciones anómalas.  \n  - **Relación con FLAG:** La ausencia de datos en este campo podría ser un factor de riesgo para el modelo.\n\n---\n\n### 3. **ERC20_uniq_rec_addr**  \n- **Valor transformado:** 1.56  \n- **Valor original:** 4.0  \n- **Interpretación:**  \n  - El valor transformado está por encima de la mediana (0), lo que sugiere que la cuenta recibió transacciones de múltiples direcciones únicas.  \n  - **Relación con FLAG:** Recibir de 4 direcciones únicas (valor original) podría ser un patrón común en transacciones fraudulentas, especialmente si estas direcciones no tienen historial previo.  \n\n---\n\n### 4. **Total ERC20 tnxs**  \n- **Valor transformado:** 2.0  \n- **Valor original:** 5.0  \n- **Interpretación:**  \n  - El valor transformado está por encima de la mediana (0), lo que indica un número de transacciones ERC20 más alto que lo típico.  \n  - **Relación con FLAG:** 5 transacciones ERC20 (valor original) podrían ser normales, pero en combinación con otros factores (como el token recibido) podrían ser sospechosas.\n\n---\n\n### 5. **Time Diff between first and last (Mins)**  \n- **Valor transformado:** 1.14  \n- **Valor original:** 245518.5 minutos (~173 días)  \n- **Interpretación:**  \n  - El valor transformado está por encima de la mediana (0), lo que sugiere un período de inactividad prolongado.  \n  - **Relación con FLAG:** Una inactividad de 173 días seguida de una transacción podría indicar una cuenta \"dormida\" reactivada, un patrón común en fraudes.\n\n---\n\n### 6. **Unique Received From Addresses**  \n- **Valor transformado:** 4.67  \n- **Valor original:** 31  \n- **Interpretación:**  \n  - El valor transformado está muy por encima de la mediana (0), lo que indica una gran cantidad de direcciones únicas que han enviado transacciones a esta cuenta.  \n  - **Relación con FLAG:** Recibir de 31 direcciones únicas (valor original) es altamente inusual y podría ser un indicador de lavado de dinero o fraude.\n\n---\n\n## Variables con Valor Original Anómalo\n\n### 1. **Avg val sent**  \n- **Valor transformado:** 4.67  \n- **Valor original:** 49.003094  \n- **Interpretación:**  \n  - El valor transformado está por encima de la mediana (0), lo que sugiere un monto de envío elevado.  \n  - **Relación con FLAG:** Enviar 49.003094 ETH (valor original) en una sola transacción podría ser un indicador de transacciones de alto valor, común en fraudes o lavado de dinero.\n\n---\n\n## Resumen de la Información\n\n- **FLAG = 1 (fraude):** La cuenta fue marcada como fraudulenta debido a una combinación de factores:  \n  - **Recepción de transacciones desde múltiples direcciones únicas** (31 direcciones).  \n  - **Uso de un token no reconocido** (\"Blockwell say NOTSAFU\").  \n  - **Inactividad prolongada** (173 días) seguida de una transacción.  \n  - **Envío de un monto elevado** (49.003094 ETH).  \n  - **Falta de información en el token más enviado** (campo vacío).  \n\n- **Variables clave:**  \n  - **ERC20_most_rec_token_type** y **ERC20_uniq_rec_addr** son las variables con mayor peso en la decisión del modelo.  \n  - La **inactividad prolongada** y el **alto volumen de transacciones** también contribuyeron al flagging.  \n\n- **Recomendación:**  \n  - Verificar si el token \"Blockwell say NOTSAFU\" es legítimo.  \n  - Analizar el historial de las 31 direcciones que enviaron transacciones a esta cuenta.  \n  - Revisar si el monto de 49.003094 ETH es coherente con el patrón de transacciones de la cuenta."
     },
     "metadata": {},
     "output_type": "display_data"
    }
   ],
   "execution_count": 20
  }
 ],
 "metadata": {
  "kernelspec": {
   "display_name": "Python 3",
   "language": "python",
   "name": "python3"
  },
  "language_info": {
   "codemirror_mode": {
    "name": "ipython",
    "version": 2
   },
   "file_extension": ".py",
   "mimetype": "text/x-python",
   "name": "python",
   "nbconvert_exporter": "python",
   "pygments_lexer": "ipython2",
   "version": "2.7.6"
  }
 },
 "nbformat": 4,
 "nbformat_minor": 5
}
